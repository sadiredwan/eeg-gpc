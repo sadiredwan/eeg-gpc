{
 "cells": [
  {
   "cell_type": "code",
   "execution_count": 40,
   "metadata": {},
   "outputs": [],
   "source": [
    "import mne\n",
    "import os\n",
    "from tqdm import tqdm\n",
    "import matplotlib.pyplot as plt\n",
    "import numpy as np\n",
    "%matplotlib inline\n",
    "mne.set_log_level(40)"
   ]
  },
  {
   "cell_type": "code",
   "execution_count": 41,
   "metadata": {},
   "outputs": [],
   "source": [
    "def update_channels(raw):\n",
    "    raw.drop_channels(['064'])\n",
    "    update_names = ['EEG{:03d}'.format(i+1) for i in range(63)]\n",
    "    map = dict(zip(raw.info['ch_names'], update_names))\n",
    "    mne.rename_channels(raw.info, mapping=map)\n",
    "    update_types = ['eeg'] * 60 + ['eog'] * 2 + ['ecg']\n",
    "    map = dict(zip(raw.info['ch_names'], update_types))\n",
    "    raw.set_channel_types(map)\n",
    "    raw.set_montage('mgh60')\n",
    "    return raw"
   ]
  },
  {
   "cell_type": "code",
   "execution_count": 42,
   "metadata": {},
   "outputs": [],
   "source": [
    "def ica_filter(raw):\n",
    "    raw = raw.filter(l_freq=.5, h_freq=35)\n",
    "    ica = mne.preprocessing.ICA(\n",
    "        n_components=20,\n",
    "        max_iter='auto',\n",
    "        random_state=10\n",
    "    )\n",
    "    ica.fit(raw)\n",
    "    ecg_indices, ecg_scores = ica.find_bads_ecg(raw, method='correlation', threshold='auto')\n",
    "    eog_indices, ecg_scores = ica.find_bads_eog(raw, threshold='auto')\n",
    "    ica.exclude = ecg_indices + eog_indices\n",
    "    epochs = ica.apply(raw, exclude=ica.exclude)\n",
    "    epochs = mne.make_fixed_length_epochs(epochs, duration=30, preload=True)\n",
    "    return epochs"
   ]
  },
  {
   "cell_type": "code",
   "execution_count": 43,
   "metadata": {},
   "outputs": [
    {
     "name": "stderr",
     "output_type": "stream",
     "text": [
      "  1%|          | 1/144 [00:00<00:58,  2.43it/s]\n"
     ]
    }
   ],
   "source": [
    "for f in tqdm(os.listdir('data/ds003944')):\n",
    "    if f.endswith('.set'):\n",
    "        raw = mne.io.read_raw_eeglab('data/ds003944/'+f, preload=True)\n",
    "        raw = update_channels(raw)\n",
    "        # epochs = ica_filter(raw.copy())\n",
    "        # epochs.save('data/processed/epochs/'+f.replace('.set', '.fif'))\n",
    "        break"
   ]
  },
  {
   "cell_type": "code",
   "execution_count": 44,
   "metadata": {},
   "outputs": [],
   "source": [
    "raw = raw.filter(l_freq=.5, h_freq=35)"
   ]
  },
  {
   "cell_type": "code",
   "execution_count": 45,
   "metadata": {},
   "outputs": [
    {
     "data": {
      "text/html": [
       "<table class=\"table table-hover\">\n",
       "    <tr>\n",
       "        <th>Condition</th>\n",
       "        <td>998</td>\n",
       "    </tr>\n",
       "    <tr>\n",
       "        <th>Data kind</th>\n",
       "        <td>average</td>\n",
       "    </tr>\n",
       "    <tr>\n",
       "        <th>Timepoints</th>\n",
       "        <td>1001 samples</td>\n",
       "    </tr>\n",
       "        <th>Channels</th>\n",
       "        <td>60 channels</td>\n",
       "    </tr>\n",
       "    <tr>\n",
       "        <th>Number of averaged epochs</th>\n",
       "        <td>97</td>\n",
       "    </tr>\n",
       "    <tr>\n",
       "        <th>Time range (secs)</th>\n",
       "        <td>-0.5 – 0.5</td>\n",
       "    </tr>\n",
       "    <tr>\n",
       "        <th>Baseline (secs)</th>\n",
       "        <td>-0.500 – -0.200 sec</td>\n",
       "    </tr>\n",
       "</table>"
      ],
      "text/plain": [
       "<Evoked | '998' (average, N=97), -0.5 – 0.5 sec, baseline -0.5 – -0.2 sec, 60 ch, ~555 kB>"
      ]
     },
     "execution_count": 45,
     "metadata": {},
     "output_type": "execute_result"
    }
   ],
   "source": [
    "eog_evoked = mne.preprocessing.create_eog_epochs(raw).average()\n",
    "eog_evoked.apply_baseline(baseline=(None, -0.2))\n",
    "# eog_evoked.plot_joint()"
   ]
  },
  {
   "cell_type": "code",
   "execution_count": 46,
   "metadata": {},
   "outputs": [
    {
     "data": {
      "text/html": [
       "<table class=\"table table-hover\">\n",
       "    <tr>\n",
       "        <th>Condition</th>\n",
       "        <td>999</td>\n",
       "    </tr>\n",
       "    <tr>\n",
       "        <th>Data kind</th>\n",
       "        <td>average</td>\n",
       "    </tr>\n",
       "    <tr>\n",
       "        <th>Timepoints</th>\n",
       "        <td>1001 samples</td>\n",
       "    </tr>\n",
       "        <th>Channels</th>\n",
       "        <td>60 channels</td>\n",
       "    </tr>\n",
       "    <tr>\n",
       "        <th>Number of averaged epochs</th>\n",
       "        <td>220</td>\n",
       "    </tr>\n",
       "    <tr>\n",
       "        <th>Time range (secs)</th>\n",
       "        <td>-0.5 – 0.5</td>\n",
       "    </tr>\n",
       "    <tr>\n",
       "        <th>Baseline (secs)</th>\n",
       "        <td>-0.500 – -0.200 sec</td>\n",
       "    </tr>\n",
       "</table>"
      ],
      "text/plain": [
       "<Evoked | '999' (average, N=220), -0.5 – 0.5 sec, baseline -0.5 – -0.2 sec, 60 ch, ~555 kB>"
      ]
     },
     "execution_count": 46,
     "metadata": {},
     "output_type": "execute_result"
    }
   ],
   "source": [
    "ecg_evoked = mne.preprocessing.create_ecg_epochs(raw).average()\n",
    "ecg_evoked.apply_baseline(baseline=(None, -0.2))\n",
    "# ecg_evoked.plot_joint()"
   ]
  },
  {
   "cell_type": "code",
   "execution_count": 47,
   "metadata": {},
   "outputs": [],
   "source": [
    "ica = mne.preprocessing.ICA(n_components=20, max_iter='auto', random_state=10)"
   ]
  },
  {
   "cell_type": "code",
   "execution_count": 48,
   "metadata": {},
   "outputs": [
    {
     "data": {
      "text/html": [
       "<table class=\"table table-hover table-striped table-sm table-responsive small\">\n",
       "    <tr>\n",
       "        <th>Method</th>\n",
       "        <td>fastica</td>\n",
       "    </tr>\n",
       "    <tr>\n",
       "        <th>Fit</th>\n",
       "        <td>54 iterations on raw data (306000 samples)</td>\n",
       "    </tr>\n",
       "    \n",
       "    <tr>\n",
       "        <th>ICA components</th>\n",
       "        <td>20</td>\n",
       "    </tr>\n",
       "    <tr>\n",
       "        <th>Available PCA components</th>\n",
       "        <td>60</td>\n",
       "    </tr>\n",
       "    <tr>\n",
       "        <th>Channel types</th>\n",
       "        <td>eeg</td>\n",
       "    </tr>\n",
       "    <tr>\n",
       "        <th>ICA components marked for exclusion</th>\n",
       "        <td>&mdash;</td>\n",
       "    </tr>\n",
       "    \n",
       "</table>"
      ],
      "text/plain": [
       "<ICA | raw data decomposition, method: fastica (fit in 54 iterations on 306000 samples), 20 ICA components (60 PCA components available), channel types: eeg, no sources marked for exclusion>"
      ]
     },
     "execution_count": 48,
     "metadata": {},
     "output_type": "execute_result"
    }
   ],
   "source": [
    "ica.fit(raw.copy())"
   ]
  },
  {
   "cell_type": "code",
   "execution_count": 49,
   "metadata": {},
   "outputs": [],
   "source": [
    "%matplotlib inline\n",
    "# ica.plot_components()"
   ]
  },
  {
   "cell_type": "code",
   "execution_count": 50,
   "metadata": {},
   "outputs": [],
   "source": [
    "ecg_indices, ecg_scores = ica.find_bads_ecg(raw, method='correlation', threshold='auto')\n",
    "eog_indices, ecg_scores = ica.find_bads_eog(raw, threshold='auto')"
   ]
  },
  {
   "cell_type": "code",
   "execution_count": 51,
   "metadata": {},
   "outputs": [],
   "source": [
    "ica.exclude = ecg_indices + eog_indices\n",
    "epochs = ica.apply(raw.copy(), exclude=ica.exclude)"
   ]
  }
 ],
 "metadata": {
  "kernelspec": {
   "display_name": "Python 3.10.6 ('eeg')",
   "language": "python",
   "name": "python3"
  },
  "language_info": {
   "codemirror_mode": {
    "name": "ipython",
    "version": 3
   },
   "file_extension": ".py",
   "mimetype": "text/x-python",
   "name": "python",
   "nbconvert_exporter": "python",
   "pygments_lexer": "ipython3",
   "version": "3.10.6"
  },
  "orig_nbformat": 4,
  "vscode": {
   "interpreter": {
    "hash": "6c5d414a469e5f94d9b2cc91440f137574f5dee04513972a75d0756fd1e634aa"
   }
  }
 },
 "nbformat": 4,
 "nbformat_minor": 2
}
